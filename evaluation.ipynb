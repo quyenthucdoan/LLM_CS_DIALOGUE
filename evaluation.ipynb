{
 "cells": [
  {
   "cell_type": "markdown",
   "id": "0ca895ab",
   "metadata": {},
   "source": [
    "# Load data"
   ]
  },
  {
   "cell_type": "code",
   "execution_count": null,
   "id": "e345bae9",
   "metadata": {},
   "outputs": [],
   "source": [
    "import json\n",
    "with open(\"output/selected_dialogues.json\", \"r\") as f:\n",
    "    data = json.load(f)\n",
    "    print(data)"
   ]
  },
  {
   "cell_type": "code",
   "execution_count": 4,
   "id": "2f563351",
   "metadata": {},
   "outputs": [
    {
     "name": "stdout",
     "output_type": "stream",
     "text": [
      "Number of sample dialogues: 3\n",
      "Number of inference dialogues: 38\n"
     ]
    }
   ],
   "source": [
    "# data_sample is the data in barem so remove it in data\n",
    "data_sample = []\n",
    "data_inference = []\n",
    "\n",
    "for dialogue in data['dialogues']:\n",
    "    if (dialogue['dialogue_id'] in [335, 25, 26]):\n",
    "        data_sample.append(dialogue)\n",
    "    else:\n",
    "        data_inference.append(dialogue)\n",
    "        \n",
    "print(\"Number of sample dialogues:\", len(data_sample))\n",
    "print(\"Number of inference dialogues:\", len(data_inference))"
   ]
  },
  {
   "cell_type": "code",
   "execution_count": null,
   "id": "a358517b",
   "metadata": {},
   "outputs": [],
   "source": [
    "import copy\n",
    "\n",
    "def split_data_label(data):\n",
    "    print(f\"Split_data_label for {len(data)} records.\")\n",
    "    preprocess_dialogue_data = copy.deepcopy(data)\n",
    "\n",
    "    # score each dialogue\n",
    "    average_scores = []\n",
    "    average_score_100 = []\n",
    "    overall_scores = []\n",
    "    for dialogue in preprocess_dialogue_data:\n",
    "        average_scores.append({\"dialogue_id\": dialogue['dialogue_id'], \"average_scores\": dialogue['average_score']})\n",
    "        average_score_100.append({\"dialogue_id\": dialogue['dialogue_id'], \"average_score_100\": dialogue['average_score_100']})\n",
    "        overall_scores.append({\"dialogue_id\": dialogue['dialogue_id'], \"overall_scores\": dialogue['overall_scores']})\n",
    "\n",
    "    # Preprocess into data and label (scores)\n",
    "    \n",
    "    for dialogue in preprocess_dialogue_data:\n",
    "        for turn in dialogue['turns']:\n",
    "            # remove the \"scores\" field\n",
    "            if 'scores' in turn:\n",
    "                del turn['scores']\n",
    "            if 'intent' in turn:\n",
    "                del turn['intent']\n",
    "            \n",
    "    data_inference = []\n",
    "    for dialogue in preprocess_dialogue_data:\n",
    "        dialogue_text = \"\"\n",
    "        for turn in dialogue['turns']:\n",
    "            dialogue_text += turn['speaker'] + \": \" + turn['text'] + \"\\n\"\n",
    "        data_inference.append({\"dialogue_id\": dialogue['dialogue_id'], \"text\": dialogue_text})\n",
    "        \n",
    "    return data_inference, average_scores, average_score_100, overall_scores"
   ]
  },
  {
   "cell_type": "code",
   "execution_count": 6,
   "id": "7421b338",
   "metadata": {},
   "outputs": [
    {
     "name": "stdout",
     "output_type": "stream",
     "text": [
      "Split_data_label for 38 records.\n"
     ]
    }
   ],
   "source": [
    "data_inference, average_scores, average_score_100, overall_scores = split_data_label(data_inference)"
   ]
  },
  {
   "cell_type": "markdown",
   "id": "a130c18e",
   "metadata": {},
   "source": [
    "# Load result"
   ]
  },
  {
   "cell_type": "code",
   "execution_count": 35,
   "id": "df61dac7",
   "metadata": {},
   "outputs": [],
   "source": [
    "result = [{'dialogue_id': 1, 'average_score_100': 50.5, 'model_score': 35},\n",
    " {'dialogue_id': 3, 'average_score_100': 50.5, 'model_score': 38},\n",
    " {'dialogue_id': 2, 'average_score_100': 56.69, 'model_score': 62},\n",
    " {'dialogue_id': 7, 'average_score_100': 56.69, 'model_score': 64},\n",
    " {'dialogue_id': 9, 'average_score_100': 58.75, 'model_score': None},\n",
    " {'dialogue_id': 15, 'average_score_100': 58.75, 'model_score': 18},\n",
    " {'dialogue_id': 10, 'average_score_100': 67.0, 'model_score': 68},\n",
    " {'dialogue_id': 20, 'average_score_100': 67.0, 'model_score': 48},\n",
    " {'dialogue_id': 13, 'average_score_100': 62.88, 'model_score': 54},\n",
    " {'dialogue_id': 29, 'average_score_100': 62.88, 'model_score': None},\n",
    " {'dialogue_id': 14, 'average_score_100': 69.06, 'model_score': 79},\n",
    " {'dialogue_id': 115, 'average_score_100': 69.06, 'model_score': 34},\n",
    " {'dialogue_id': 16, 'average_score_100': 44.31, 'model_score': 68},\n",
    " {'dialogue_id': 41, 'average_score_100': 44.31, 'model_score': 68},\n",
    " {'dialogue_id': 18, 'average_score_100': 31.94, 'model_score': 38},\n",
    " {'dialogue_id': 70, 'average_score_100': 31.94, 'model_score': None},\n",
    " {'dialogue_id': 24, 'average_score_100': 65.35, 'model_score': 28},\n",
    " {'dialogue_id': 326, 'average_score_100': 65.35, 'model_score': 55},\n",
    " {'dialogue_id': 136, 'average_score_100': 75.25, 'model_score': 18},\n",
    " {'dialogue_id': 202, 'average_score_100': 25.75, 'model_score': None}\n",
    " ]"
   ]
  },
  {
   "cell_type": "code",
   "execution_count": null,
   "id": "841b2ede",
   "metadata": {},
   "outputs": [],
   "source": [
    "import pandas as pd\n",
    "result_df = pd.DataFrame(result)\n",
    "df = pd.DataFrame(average_scores)"
   ]
  },
  {
   "cell_type": "code",
   "execution_count": null,
   "id": "bfe6e609",
   "metadata": {},
   "outputs": [],
   "source": [
    "result_df = result_df.join(df, on='dialogue_id', lsuffix='_left', rsuffix='_right')\n",
    "result_df = result_df[['dialogue_id', 'average_scores', 'model_score']]\n",
    "result_df['model_score_5'] = result_df['model_score'] / 20\n",
    "result_df.drop(columns=['model_score'], inplace=True)\n",
    "\n",
    "result_df = result_df.dropna()"
   ]
  },
  {
   "cell_type": "markdown",
   "id": "f3a17b57",
   "metadata": {},
   "source": [
    "# Evaluate"
   ]
  },
  {
   "cell_type": "code",
   "execution_count": null,
   "id": "c9e5c966",
   "metadata": {},
   "outputs": [],
   "source": [
    "import numpy as np\n",
    "from sklearn.metrics import mean_absolute_error, mean_squared_error, r2_score\n",
    "\n",
    "def calculate_all_metrics(y_true, y_pred):\n",
    "    \"\"\"\n",
    "    Calculates MAE, MSE, RMSE, and R-squared and returns them in a dictionary.\n",
    "    \n",
    "    Args:\n",
    "        y_true (list or np.array): True Average Scores (in dataset).\n",
    "        y_pred (list or np.array): Predicted Average Scores (model generated).\n",
    "    \"\"\"\n",
    "    mae = round(mean_absolute_error(y_true, y_pred), 4)\n",
    "    mse = round(mean_squared_error(y_true, y_pred), 4)\n",
    "    rmse = float(round(np.sqrt(mse), 4))\n",
    "    r2 = round(r2_score(y_true, y_pred), 4)\n",
    "    \n",
    "    metrics = {\n",
    "        'MAE': mae,\n",
    "        'MSE': mse,\n",
    "        'RMSE': rmse,\n",
    "        'R2': r2\n",
    "    }\n",
    "    \n",
    "    return metrics"
   ]
  },
  {
   "cell_type": "code",
   "execution_count": 32,
   "id": "2497781b",
   "metadata": {},
   "outputs": [],
   "source": [
    "metrics_list = []"
   ]
  },
  {
   "cell_type": "code",
   "execution_count": null,
   "id": "f200ffe0",
   "metadata": {},
   "outputs": [],
   "source": [
    "# Vd đã chạy 3 lần (chạy 3 lần ô này)\n",
    "metrics = calculate_all_metrics(result_df['average_scores'], result_df['model_score_5'])\n",
    "metrics_list.append(metrics)"
   ]
  },
  {
   "cell_type": "code",
   "execution_count": null,
   "id": "1fcb9a5e",
   "metadata": {},
   "outputs": [],
   "source": []
  },
  {
   "cell_type": "code",
   "execution_count": 41,
   "id": "ca9c7eb2",
   "metadata": {},
   "outputs": [
    {
     "data": {
      "text/plain": [
       "{'mean': {'MAE': 0.8642, 'MSE': 1.173, 'RMSE': 1.0831, 'R2': -2.5142},\n",
       " 'sd': {'MAE': 0.0, 'MSE': 0.0, 'RMSE': 0.0, 'R2': 0.0}}"
      ]
     },
     "execution_count": 41,
     "metadata": {},
     "output_type": "execute_result"
    }
   ],
   "source": [
    "all_results"
   ]
  }
 ],
 "metadata": {
  "kernelspec": {
   "display_name": "py311cuda",
   "language": "python",
   "name": "python3"
  },
  "language_info": {
   "codemirror_mode": {
    "name": "ipython",
    "version": 3
   },
   "file_extension": ".py",
   "mimetype": "text/x-python",
   "name": "python",
   "nbconvert_exporter": "python",
   "pygments_lexer": "ipython3",
   "version": "3.11.13"
  }
 },
 "nbformat": 4,
 "nbformat_minor": 5
}
